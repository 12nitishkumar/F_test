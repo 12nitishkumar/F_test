{
 "cells": [
  {
   "cell_type": "code",
   "execution_count": 1,
   "id": "bd382d19-da36-487f-a31b-d0d58e8defb9",
   "metadata": {},
   "outputs": [],
   "source": [
    "#Evidence to say that two population variables are not equal.\n",
    "## Both the performance is different\n",
    "Worker1 = [18,19,22,25,27,28,41,45,51,55]\n",
    "Worker2 = [14,15,15,17,18,22,25,25,27,34]"
   ]
  },
  {
   "cell_type": "code",
   "execution_count": 2,
   "id": "68111e65-c879-4a56-967f-667a89e2570b",
   "metadata": {},
   "outputs": [],
   "source": [
    "## Calaculating Ftest\n",
    "import numpy as np\n",
    "f_test = np.var(Worker1)/np.var(Worker2)"
   ]
  },
  {
   "cell_type": "code",
   "execution_count": 3,
   "id": "9e13cdaa-9aec-4664-948c-f527030c1f85",
   "metadata": {},
   "outputs": [
    {
     "data": {
      "text/plain": [
       "4.387122002085506"
      ]
     },
     "execution_count": 3,
     "metadata": {},
     "output_type": "execute_result"
    }
   ],
   "source": [
    "f_test"
   ]
  },
  {
   "cell_type": "code",
   "execution_count": 4,
   "id": "343426e3-feba-4dbc-9a3f-6c9aee3d17b6",
   "metadata": {},
   "outputs": [],
   "source": [
    "## Degree OF Freedom\n",
    "df1 = len(Worker1) - 1 \n",
    "df2 = len(Worker2) - 2\n",
    "signifance_value = 0.05"
   ]
  },
  {
   "cell_type": "code",
   "execution_count": 6,
   "id": "cc5a09f5-4ebd-48dc-a7d3-e6845715239c",
   "metadata": {},
   "outputs": [],
   "source": [
    "import scipy.stats as stat"
   ]
  },
  {
   "cell_type": "code",
   "execution_count": 8,
   "id": "d8db09cf-a352-4861-b180-db33b9b4ec1a",
   "metadata": {},
   "outputs": [],
   "source": [
    "critical_value = stat.f.ppf(q = 1 - signifance_value,dfn = df1,dfd = df2 )"
   ]
  },
  {
   "cell_type": "code",
   "execution_count": 9,
   "id": "ee2b86a8-968d-43ca-83dc-c831bd1b8bdf",
   "metadata": {},
   "outputs": [
    {
     "data": {
      "text/plain": [
       "3.3881302347397266"
      ]
     },
     "execution_count": 9,
     "metadata": {},
     "output_type": "execute_result"
    }
   ],
   "source": [
    "critical_value"
   ]
  },
  {
   "cell_type": "code",
   "execution_count": 10,
   "id": "1be75844-b7c0-4e68-9939-5022b47a2f52",
   "metadata": {},
   "outputs": [
    {
     "name": "stdout",
     "output_type": "stream",
     "text": [
      "Reject the Null Hypothesis\n"
     ]
    }
   ],
   "source": [
    "if f_test  > critical_value:\n",
    "    print(\"Reject the Null Hypothesis\")\n",
    "else:\n",
    "    print(\"We fail to Reject the Null Hypothesis\")"
   ]
  },
  {
   "cell_type": "code",
   "execution_count": null,
   "id": "78189a36-1fba-4ae6-b38a-9e1e32dddd2b",
   "metadata": {},
   "outputs": [],
   "source": []
  }
 ],
 "metadata": {
  "kernelspec": {
   "display_name": "Python 3 (ipykernel)",
   "language": "python",
   "name": "python3"
  },
  "language_info": {
   "codemirror_mode": {
    "name": "ipython",
    "version": 3
   },
   "file_extension": ".py",
   "mimetype": "text/x-python",
   "name": "python",
   "nbconvert_exporter": "python",
   "pygments_lexer": "ipython3",
   "version": "3.10.8"
  }
 },
 "nbformat": 4,
 "nbformat_minor": 5
}
